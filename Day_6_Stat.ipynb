{
  "nbformat": 4,
  "nbformat_minor": 0,
  "metadata": {
    "colab": {
      "provenance": []
    },
    "kernelspec": {
      "name": "python3",
      "display_name": "Python 3"
    },
    "language_info": {
      "name": "python"
    }
  },
  "cells": [
    {
      "cell_type": "markdown",
      "source": [
        ".ipynb is the python notebook file extension\n",
        "\n",
        "RUN = shift + enter\n",
        "\n",
        "IDE - Integrated Development Environment\n",
        "\n",
        "features of IDE\n",
        "\n",
        "CODE EDITOR\n",
        "\n",
        "DEBUGGER\n",
        "\n",
        "COMPILER\n",
        "\n",
        "INTERPRETER\n"
      ],
      "metadata": {
        "id": "ady6q5s4uzEh"
      }
    },
    {
      "cell_type": "markdown",
      "source": [
        "# WHAT IS PROGRAMMING LANGUAGE ?\n",
        "\n",
        "Programming enables computers to:\n",
        "\n",
        "Automate tasks\n",
        "\n",
        "Solve complex problems\n",
        "\n",
        "Process and analyze data\n",
        "\n",
        "Create software, websites, and applications\n",
        "\n",
        "Control hardware systems"
      ],
      "metadata": {
        "id": "C_B3pyvlvs5M"
      }
    },
    {
      "cell_type": "markdown",
      "source": [
        "Code: The set of written instructions in a programming language.\n",
        "\n",
        "Algorithm: A step-by-step process to solve a problem.\n",
        "\n",
        "Programming Language: A formal language used to write code (e.g., Python, Java, C++).\n",
        "\n",
        "Compiler - Translating code into a format the computer can execute.\n"
      ],
      "metadata": {
        "id": "WSn4ZFAewQHL"
      }
    },
    {
      "cell_type": "markdown",
      "source": [
        "#python\n",
        "\n",
        "- High level language\n",
        "\n",
        "- easy to use like reading english\n",
        "\n",
        "- open source -\n",
        "\n",
        "- platform independent -  cross platform\n",
        "\n",
        "-Interpreted language\n",
        "\n",
        "- library supported language"
      ],
      "metadata": {
        "id": "clXDIuqZwuL7"
      }
    },
    {
      "cell_type": "code",
      "source": [
        "#A module in Python is a file containing Python code"
      ],
      "metadata": {
        "id": "ujoBIu9AvGf3"
      },
      "execution_count": null,
      "outputs": []
    },
    {
      "cell_type": "code",
      "execution_count": null,
      "metadata": {
        "colab": {
          "base_uri": "https://localhost:8080/",
          "height": 35
        },
        "id": "tbCExR66uNhU",
        "outputId": "60ec45ed-5d78-434f-a2ab-8d5666c930a9"
      },
      "outputs": [
        {
          "output_type": "execute_result",
          "data": {
            "text/plain": [
              "' this is\\nmulti\\nline\\ncomment\\n'"
            ],
            "application/vnd.google.colaboratory.intrinsic+json": {
              "type": "string"
            }
          },
          "metadata": {},
          "execution_count": 2
        }
      ],
      "source": [
        "''' this is\n",
        "multi\n",
        "line\n",
        "comment\n",
        "'''"
      ]
    },
    {
      "cell_type": "code",
      "source": [
        "print(\"Hello, World\")"
      ],
      "metadata": {
        "colab": {
          "base_uri": "https://localhost:8080/"
        },
        "id": "jaM70TvOxiPh",
        "outputId": "1b458248-0ae4-43ec-b774-5230c1bc7b36"
      },
      "execution_count": null,
      "outputs": [
        {
          "output_type": "stream",
          "name": "stdout",
          "text": [
            "Hello, World\n"
          ]
        }
      ]
    },
    {
      "cell_type": "markdown",
      "source": [
        "#data type"
      ],
      "metadata": {
        "id": "MXiCL7iNVY32"
      }
    },
    {
      "cell_type": "code",
      "source": [
        "#int"
      ],
      "metadata": {
        "id": "ajyhynQXxrVX"
      },
      "execution_count": 1,
      "outputs": []
    },
    {
      "cell_type": "code",
      "source": [
        "a= 10"
      ],
      "metadata": {
        "id": "fgkUUc07VfPh"
      },
      "execution_count": 2,
      "outputs": []
    },
    {
      "cell_type": "code",
      "source": [
        "print(a)"
      ],
      "metadata": {
        "colab": {
          "base_uri": "https://localhost:8080/"
        },
        "id": "xd7C8mHqVmqM",
        "outputId": "393c22be-ce83-44e3-ad16-53ca7803f555"
      },
      "execution_count": 3,
      "outputs": [
        {
          "output_type": "stream",
          "name": "stdout",
          "text": [
            "10\n"
          ]
        }
      ]
    },
    {
      "cell_type": "code",
      "source": [
        "a"
      ],
      "metadata": {
        "colab": {
          "base_uri": "https://localhost:8080/"
        },
        "id": "0yxERUpFVoQO",
        "outputId": "8c7f7702-60f7-43f5-cc35-3ad5d7c1ca8c"
      },
      "execution_count": 4,
      "outputs": [
        {
          "output_type": "execute_result",
          "data": {
            "text/plain": [
              "10"
            ]
          },
          "metadata": {},
          "execution_count": 4
        }
      ]
    },
    {
      "cell_type": "code",
      "source": [
        "a = 10.5"
      ],
      "metadata": {
        "id": "7zT9Ta8eVqIp"
      },
      "execution_count": 5,
      "outputs": []
    },
    {
      "cell_type": "code",
      "source": [
        "a"
      ],
      "metadata": {
        "colab": {
          "base_uri": "https://localhost:8080/"
        },
        "id": "4uX_NeqtV4fL",
        "outputId": "d5a2280e-a976-466a-981c-bbe67701bd61"
      },
      "execution_count": 6,
      "outputs": [
        {
          "output_type": "execute_result",
          "data": {
            "text/plain": [
              "10.5"
            ]
          },
          "metadata": {},
          "execution_count": 6
        }
      ]
    },
    {
      "cell_type": "code",
      "source": [
        "int(a)"
      ],
      "metadata": {
        "colab": {
          "base_uri": "https://localhost:8080/"
        },
        "id": "yoUpz_JEV5yA",
        "outputId": "86f5c039-6fb8-4361-cf8b-39dd7ff59d29"
      },
      "execution_count": 7,
      "outputs": [
        {
          "output_type": "execute_result",
          "data": {
            "text/plain": [
              "10"
            ]
          },
          "metadata": {},
          "execution_count": 7
        }
      ]
    },
    {
      "cell_type": "code",
      "source": [
        "#float"
      ],
      "metadata": {
        "id": "r36Wj9QKV8Xk"
      },
      "execution_count": 8,
      "outputs": []
    },
    {
      "cell_type": "code",
      "source": [
        "a = 40.5"
      ],
      "metadata": {
        "id": "rBRnUiNTWAGM"
      },
      "execution_count": 9,
      "outputs": []
    },
    {
      "cell_type": "code",
      "source": [
        "a = 5"
      ],
      "metadata": {
        "id": "BEcfcWCTWClj"
      },
      "execution_count": 10,
      "outputs": []
    },
    {
      "cell_type": "code",
      "source": [
        "float(a)"
      ],
      "metadata": {
        "colab": {
          "base_uri": "https://localhost:8080/"
        },
        "id": "xtzE-yRjWEFp",
        "outputId": "79bf556f-abdd-4094-ab80-077ee57b8cb9"
      },
      "execution_count": 11,
      "outputs": [
        {
          "output_type": "execute_result",
          "data": {
            "text/plain": [
              "5.0"
            ]
          },
          "metadata": {},
          "execution_count": 11
        }
      ]
    },
    {
      "cell_type": "code",
      "source": [
        "#string"
      ],
      "metadata": {
        "id": "iDlqQb-tWFyr"
      },
      "execution_count": 12,
      "outputs": []
    },
    {
      "cell_type": "code",
      "source": [
        "name = \"pranjal\""
      ],
      "metadata": {
        "id": "QYtNfPAdWI4J"
      },
      "execution_count": 13,
      "outputs": []
    },
    {
      "cell_type": "code",
      "source": [
        "a"
      ],
      "metadata": {
        "colab": {
          "base_uri": "https://localhost:8080/"
        },
        "id": "8ddVSJ7oWL7c",
        "outputId": "93eef787-c9ba-4d5c-8292-bf7bf5785ea4"
      },
      "execution_count": 14,
      "outputs": [
        {
          "output_type": "execute_result",
          "data": {
            "text/plain": [
              "5"
            ]
          },
          "metadata": {},
          "execution_count": 14
        }
      ]
    },
    {
      "cell_type": "code",
      "source": [
        "str(a)"
      ],
      "metadata": {
        "colab": {
          "base_uri": "https://localhost:8080/",
          "height": 35
        },
        "id": "faX_WUc1WQLa",
        "outputId": "48b55c27-5259-45d8-9f07-113359887109"
      },
      "execution_count": 15,
      "outputs": [
        {
          "output_type": "execute_result",
          "data": {
            "text/plain": [
              "'5'"
            ],
            "application/vnd.google.colaboratory.intrinsic+json": {
              "type": "string"
            }
          },
          "metadata": {},
          "execution_count": 15
        }
      ]
    },
    {
      "cell_type": "code",
      "source": [
        "#booleans"
      ],
      "metadata": {
        "id": "cK_3UwwPWSRc"
      },
      "execution_count": 16,
      "outputs": []
    },
    {
      "cell_type": "code",
      "source": [
        "a = True"
      ],
      "metadata": {
        "id": "mp7gYa1vWXni"
      },
      "execution_count": 17,
      "outputs": []
    },
    {
      "cell_type": "code",
      "source": [
        "B = False"
      ],
      "metadata": {
        "id": "tV7GhX97Wcj5"
      },
      "execution_count": 18,
      "outputs": []
    },
    {
      "cell_type": "markdown",
      "source": [
        "#List = [].\n",
        "\n",
        " 1- ordered collectioins\n",
        "\n",
        " 2 - mutable - can be changes\n",
        "\n",
        " 3 - diff. data type\n",
        "\n",
        " 4 - support for slicing"
      ],
      "metadata": {
        "id": "7HvvdwY0Wxqi"
      }
    },
    {
      "cell_type": "code",
      "source": [
        "numbers =[ 1,2,3,4,5]"
      ],
      "metadata": {
        "id": "zfQoKwLEWeGL"
      },
      "execution_count": 19,
      "outputs": []
    },
    {
      "cell_type": "code",
      "source": [
        "list1 = [ 1,2.5,True, \"pranjal\"]"
      ],
      "metadata": {
        "id": "QqEjJB6cXJum"
      },
      "execution_count": 20,
      "outputs": []
    },
    {
      "cell_type": "code",
      "source": [
        "list = []   #empty list"
      ],
      "metadata": {
        "id": "wTKgwE5mXOsF"
      },
      "execution_count": 21,
      "outputs": []
    },
    {
      "cell_type": "code",
      "source": [
        "list2 = [[1,2], [3,4]]    #nested list"
      ],
      "metadata": {
        "id": "1tFUzxdIXSSS"
      },
      "execution_count": null,
      "outputs": []
    },
    {
      "cell_type": "markdown",
      "source": [
        "#Tuple =()\n",
        "\n",
        "1- ordered collection\n",
        "\n",
        "2 - immutable\n",
        "\n",
        "3- fix. data type"
      ],
      "metadata": {
        "id": "8dfWcB4QXbBn"
      }
    },
    {
      "cell_type": "code",
      "source": [
        "t1 = (10,20)"
      ],
      "metadata": {
        "id": "MYMdnX6VXsug"
      },
      "execution_count": 22,
      "outputs": []
    },
    {
      "cell_type": "code",
      "source": [
        "color =('red', \"green\", \"blue\")"
      ],
      "metadata": {
        "id": "QMQbWBL9XwXJ"
      },
      "execution_count": 23,
      "outputs": []
    },
    {
      "cell_type": "code",
      "source": [
        "t3 = ()  #empty tuple"
      ],
      "metadata": {
        "id": "Z95V17AEX00d"
      },
      "execution_count": 24,
      "outputs": []
    },
    {
      "cell_type": "markdown",
      "source": [
        "#set = {}\n",
        "\n",
        "1 - unordered collectioins\n",
        "\n",
        "2 - no duplicated allowed\n",
        "\n"
      ],
      "metadata": {
        "id": "G2Y-YYY9X-MI"
      }
    },
    {
      "cell_type": "code",
      "source": [
        "a ={ 1,2,3,4,5,6}"
      ],
      "metadata": {
        "id": "HN4sJo3kX44B"
      },
      "execution_count": 25,
      "outputs": []
    },
    {
      "cell_type": "code",
      "source": [
        "b = {1,1,2,4,2,1,2,1,2,3,4,5}"
      ],
      "metadata": {
        "id": "zfsi8a0GYTCE"
      },
      "execution_count": 26,
      "outputs": []
    },
    {
      "cell_type": "code",
      "source": [
        "a"
      ],
      "metadata": {
        "colab": {
          "base_uri": "https://localhost:8080/"
        },
        "id": "nmOxBV_KYWA_",
        "outputId": "f5471d24-1da7-46da-8022-23d316322f86"
      },
      "execution_count": 27,
      "outputs": [
        {
          "output_type": "execute_result",
          "data": {
            "text/plain": [
              "{1, 2, 3, 4, 5, 6}"
            ]
          },
          "metadata": {},
          "execution_count": 27
        }
      ]
    },
    {
      "cell_type": "code",
      "source": [
        "b"
      ],
      "metadata": {
        "colab": {
          "base_uri": "https://localhost:8080/"
        },
        "id": "CM5nYeWtYWxD",
        "outputId": "f8b50420-362f-4cff-ce0f-93a37c852213"
      },
      "execution_count": 28,
      "outputs": [
        {
          "output_type": "execute_result",
          "data": {
            "text/plain": [
              "{1, 2, 3, 4, 5}"
            ]
          },
          "metadata": {},
          "execution_count": 28
        }
      ]
    },
    {
      "cell_type": "code",
      "source": [
        "c = set()    #empty set"
      ],
      "metadata": {
        "id": "xoxXpZ74Yjui"
      },
      "execution_count": 29,
      "outputs": []
    },
    {
      "cell_type": "code",
      "source": [
        "d = set([1,2,3,4,1,2,1,2,1,4,1])"
      ],
      "metadata": {
        "id": "chG_ii11Ypyj"
      },
      "execution_count": 30,
      "outputs": []
    },
    {
      "cell_type": "code",
      "source": [
        "d"
      ],
      "metadata": {
        "colab": {
          "base_uri": "https://localhost:8080/"
        },
        "id": "SAlI-pEJYt10",
        "outputId": "30089aef-b956-4d47-cab2-ba43f947bca6"
      },
      "execution_count": 31,
      "outputs": [
        {
          "output_type": "execute_result",
          "data": {
            "text/plain": [
              "{1, 2, 3, 4}"
            ]
          },
          "metadata": {},
          "execution_count": 31
        }
      ]
    },
    {
      "cell_type": "markdown",
      "source": [
        "#dict = {keys:values}\n",
        "\n",
        "1 - collecting keys & values\n",
        "\n",
        "2 - keys must be unique"
      ],
      "metadata": {
        "id": "8C8r5z0qYfUn"
      }
    },
    {
      "cell_type": "code",
      "source": [
        "student ={\"name\":\"pranjal\", \"age\": 21, \"city\":\"wardha\"}"
      ],
      "metadata": {
        "id": "WD8h4w9pYYId"
      },
      "execution_count": 32,
      "outputs": []
    },
    {
      "cell_type": "code",
      "source": [
        "student"
      ],
      "metadata": {
        "colab": {
          "base_uri": "https://localhost:8080/"
        },
        "id": "q0zjhJwvZLHl",
        "outputId": "0e708ae0-2d45-4ddd-c52e-cc19959b289d"
      },
      "execution_count": 33,
      "outputs": [
        {
          "output_type": "execute_result",
          "data": {
            "text/plain": [
              "{'name': 'pranjal', 'age': 21, 'city': 'wardha'}"
            ]
          },
          "metadata": {},
          "execution_count": 33
        }
      ]
    },
    {
      "cell_type": "code",
      "source": [
        "d = {}    #empty dict"
      ],
      "metadata": {
        "id": "9pjt-jKgZMdo"
      },
      "execution_count": 34,
      "outputs": []
    },
    {
      "cell_type": "markdown",
      "source": [
        "#methods in list"
      ],
      "metadata": {
        "id": "rkldq6VZZUNn"
      }
    },
    {
      "cell_type": "code",
      "source": [
        "#append -\n",
        "\n",
        "my_list = [1,2,3]"
      ],
      "metadata": {
        "id": "lGCb2Y5VZQwN"
      },
      "execution_count": 35,
      "outputs": []
    },
    {
      "cell_type": "code",
      "source": [
        "my_list.append(4)"
      ],
      "metadata": {
        "id": "XX_sZOrhZgBO"
      },
      "execution_count": 36,
      "outputs": []
    },
    {
      "cell_type": "code",
      "source": [
        "my_list"
      ],
      "metadata": {
        "colab": {
          "base_uri": "https://localhost:8080/"
        },
        "id": "lLrQ_mZOZjHq",
        "outputId": "72c535df-a0a2-44ac-8d26-faa947932088"
      },
      "execution_count": 37,
      "outputs": [
        {
          "output_type": "execute_result",
          "data": {
            "text/plain": [
              "[1, 2, 3, 4]"
            ]
          },
          "metadata": {},
          "execution_count": 37
        }
      ]
    },
    {
      "cell_type": "code",
      "source": [
        "#extend"
      ],
      "metadata": {
        "id": "DIkvynufZkb7"
      },
      "execution_count": 38,
      "outputs": []
    },
    {
      "cell_type": "code",
      "source": [
        "list =[1,2]"
      ],
      "metadata": {
        "id": "lNHdh1J7Zm_w"
      },
      "execution_count": 39,
      "outputs": []
    },
    {
      "cell_type": "code",
      "source": [
        "list.extend([3,4])"
      ],
      "metadata": {
        "id": "EPaR98trZqMt"
      },
      "execution_count": 40,
      "outputs": []
    },
    {
      "cell_type": "code",
      "source": [
        "list"
      ],
      "metadata": {
        "colab": {
          "base_uri": "https://localhost:8080/"
        },
        "id": "c5maYCWRZ278",
        "outputId": "3809abf4-5667-456c-9e91-fbe7a13d09d8"
      },
      "execution_count": 41,
      "outputs": [
        {
          "output_type": "execute_result",
          "data": {
            "text/plain": [
              "[1, 2, 3, 4]"
            ]
          },
          "metadata": {},
          "execution_count": 41
        }
      ]
    },
    {
      "cell_type": "code",
      "source": [
        "#insert - syntax -\n",
        "#   .insert(index, value)"
      ],
      "metadata": {
        "id": "SLL6qP9KZ3rj"
      },
      "execution_count": 42,
      "outputs": []
    },
    {
      "cell_type": "code",
      "source": [
        "l1= [1,3]"
      ],
      "metadata": {
        "id": "E5C1bUApaC_N"
      },
      "execution_count": 43,
      "outputs": []
    },
    {
      "cell_type": "code",
      "source": [
        "l1.insert(1,2)"
      ],
      "metadata": {
        "id": "ugVigOQBaFxY"
      },
      "execution_count": 44,
      "outputs": []
    },
    {
      "cell_type": "code",
      "source": [
        "l1"
      ],
      "metadata": {
        "colab": {
          "base_uri": "https://localhost:8080/"
        },
        "id": "w06TN5KyaL3_",
        "outputId": "fc0c7799-7a23-4726-c213-6b3f15db9b21"
      },
      "execution_count": 45,
      "outputs": [
        {
          "output_type": "execute_result",
          "data": {
            "text/plain": [
              "[1, 2, 3]"
            ]
          },
          "metadata": {},
          "execution_count": 45
        }
      ]
    },
    {
      "cell_type": "code",
      "source": [
        "#remove\n"
      ],
      "metadata": {
        "id": "qb98oiIcaMfh"
      },
      "execution_count": 46,
      "outputs": []
    },
    {
      "cell_type": "code",
      "source": [
        "l1.remove(3)"
      ],
      "metadata": {
        "id": "x-i3pkDaaQgl"
      },
      "execution_count": 47,
      "outputs": []
    },
    {
      "cell_type": "code",
      "source": [
        "l1"
      ],
      "metadata": {
        "colab": {
          "base_uri": "https://localhost:8080/"
        },
        "id": "XGQDtt5zaTGr",
        "outputId": "39bfd49f-4c12-4901-9636-2424176e4b8c"
      },
      "execution_count": 48,
      "outputs": [
        {
          "output_type": "execute_result",
          "data": {
            "text/plain": [
              "[1, 2]"
            ]
          },
          "metadata": {},
          "execution_count": 48
        }
      ]
    },
    {
      "cell_type": "code",
      "source": [
        "#pop"
      ],
      "metadata": {
        "id": "LGd6MSb2aTqg"
      },
      "execution_count": 49,
      "outputs": []
    },
    {
      "cell_type": "code",
      "source": [
        "list = [1,2,3,4,5,6]"
      ],
      "metadata": {
        "id": "poNBwT2qaW-B"
      },
      "execution_count": 50,
      "outputs": []
    },
    {
      "cell_type": "code",
      "source": [
        "list.pop()"
      ],
      "metadata": {
        "colab": {
          "base_uri": "https://localhost:8080/"
        },
        "id": "xuH66c-DaeAF",
        "outputId": "b333bb71-d193-4509-a680-de15a1854ac9"
      },
      "execution_count": 51,
      "outputs": [
        {
          "output_type": "execute_result",
          "data": {
            "text/plain": [
              "6"
            ]
          },
          "metadata": {},
          "execution_count": 51
        }
      ]
    },
    {
      "cell_type": "code",
      "source": [
        "list"
      ],
      "metadata": {
        "colab": {
          "base_uri": "https://localhost:8080/"
        },
        "id": "68-d4x4uafqa",
        "outputId": "4a829154-7ef7-4daa-aefa-0f80c33b2e98"
      },
      "execution_count": 52,
      "outputs": [
        {
          "output_type": "execute_result",
          "data": {
            "text/plain": [
              "[1, 2, 3, 4, 5]"
            ]
          },
          "metadata": {},
          "execution_count": 52
        }
      ]
    },
    {
      "cell_type": "code",
      "source": [
        "#claer"
      ],
      "metadata": {
        "id": "fdlf-2aIahLW"
      },
      "execution_count": 53,
      "outputs": []
    },
    {
      "cell_type": "code",
      "source": [
        "list"
      ],
      "metadata": {
        "colab": {
          "base_uri": "https://localhost:8080/"
        },
        "id": "IRNPvQszakwy",
        "outputId": "04970d0b-1862-4938-aa59-8933b1d9875f"
      },
      "execution_count": 54,
      "outputs": [
        {
          "output_type": "execute_result",
          "data": {
            "text/plain": [
              "[1, 2, 3, 4, 5]"
            ]
          },
          "metadata": {},
          "execution_count": 54
        }
      ]
    },
    {
      "cell_type": "code",
      "source": [
        "list.clear()"
      ],
      "metadata": {
        "id": "_lkuJkXEaljQ"
      },
      "execution_count": 55,
      "outputs": []
    },
    {
      "cell_type": "code",
      "source": [
        "list"
      ],
      "metadata": {
        "colab": {
          "base_uri": "https://localhost:8080/"
        },
        "id": "WYNxlYxHanuf",
        "outputId": "dd5d2de9-bb6e-4bc1-be10-7c3f27c5b21e"
      },
      "execution_count": 56,
      "outputs": [
        {
          "output_type": "execute_result",
          "data": {
            "text/plain": [
              "[]"
            ]
          },
          "metadata": {},
          "execution_count": 56
        }
      ]
    },
    {
      "cell_type": "code",
      "source": [
        "#index -"
      ],
      "metadata": {
        "id": "P29i5b6daoV_"
      },
      "execution_count": 57,
      "outputs": []
    },
    {
      "cell_type": "code",
      "source": [
        "list = [10,20,14,15,24,25,26,45]"
      ],
      "metadata": {
        "id": "M_oX6aV8arz1"
      },
      "execution_count": 58,
      "outputs": []
    },
    {
      "cell_type": "code",
      "source": [
        "list.index(15)"
      ],
      "metadata": {
        "colab": {
          "base_uri": "https://localhost:8080/"
        },
        "id": "Gt28iXJeavig",
        "outputId": "a11ef86b-d272-489a-c470-1e6e76e4135b"
      },
      "execution_count": 60,
      "outputs": [
        {
          "output_type": "execute_result",
          "data": {
            "text/plain": [
              "3"
            ]
          },
          "metadata": {},
          "execution_count": 60
        }
      ]
    },
    {
      "cell_type": "code",
      "source": [
        "#count()"
      ],
      "metadata": {
        "id": "pdZoXolRayrl"
      },
      "execution_count": 61,
      "outputs": []
    },
    {
      "cell_type": "code",
      "source": [
        "list = [1,2,1,1,4,5,2,4,1,2,1,2,1,2,1,4,1,3]"
      ],
      "metadata": {
        "id": "9tyIPPMCa3QF"
      },
      "execution_count": 64,
      "outputs": []
    },
    {
      "cell_type": "code",
      "source": [
        "list.count(1)"
      ],
      "metadata": {
        "colab": {
          "base_uri": "https://localhost:8080/"
        },
        "id": "1xT0SmDWa4e-",
        "outputId": "ca275ce1-5e47-4098-c16f-7bed4f473cfd"
      },
      "execution_count": 65,
      "outputs": [
        {
          "output_type": "execute_result",
          "data": {
            "text/plain": [
              "8"
            ]
          },
          "metadata": {},
          "execution_count": 65
        }
      ]
    },
    {
      "cell_type": "code",
      "source": [
        "#sort()"
      ],
      "metadata": {
        "id": "4cGz0Heea6P_"
      },
      "execution_count": 66,
      "outputs": []
    },
    {
      "cell_type": "code",
      "source": [
        "list.sort()"
      ],
      "metadata": {
        "id": "AeW22p40bGDP"
      },
      "execution_count": 67,
      "outputs": []
    },
    {
      "cell_type": "code",
      "source": [
        "list"
      ],
      "metadata": {
        "colab": {
          "base_uri": "https://localhost:8080/"
        },
        "id": "JqGYLaRFbIZf",
        "outputId": "e74d4c71-f2d7-4ce8-c8a0-cc05665be9bc"
      },
      "execution_count": 68,
      "outputs": [
        {
          "output_type": "execute_result",
          "data": {
            "text/plain": [
              "[1, 1, 1, 1, 1, 1, 1, 1, 2, 2, 2, 2, 2, 3, 4, 4, 4, 5]"
            ]
          },
          "metadata": {},
          "execution_count": 68
        }
      ]
    },
    {
      "cell_type": "code",
      "source": [
        "list.reverse()"
      ],
      "metadata": {
        "id": "c0yUXF5SbJCj"
      },
      "execution_count": 69,
      "outputs": []
    },
    {
      "cell_type": "code",
      "source": [
        "list"
      ],
      "metadata": {
        "colab": {
          "base_uri": "https://localhost:8080/"
        },
        "id": "NrsBjF2obMx_",
        "outputId": "539ceb22-a526-4422-8d1a-f411fd369c94"
      },
      "execution_count": 70,
      "outputs": [
        {
          "output_type": "execute_result",
          "data": {
            "text/plain": [
              "[5, 4, 4, 4, 3, 2, 2, 2, 2, 2, 1, 1, 1, 1, 1, 1, 1, 1]"
            ]
          },
          "metadata": {},
          "execution_count": 70
        }
      ]
    },
    {
      "cell_type": "markdown",
      "source": [
        "#tuple"
      ],
      "metadata": {
        "id": "XHgYaGXMbSvN"
      }
    },
    {
      "cell_type": "code",
      "source": [
        "t1 = (1,4,5,6,3,3,4,3,4,3,7,3,8,3,9,3)"
      ],
      "metadata": {
        "id": "2ToWkG2BbNdn"
      },
      "execution_count": 72,
      "outputs": []
    },
    {
      "cell_type": "code",
      "source": [
        "t1.count(3)"
      ],
      "metadata": {
        "colab": {
          "base_uri": "https://localhost:8080/"
        },
        "id": "IF2ALSKdbX18",
        "outputId": "bfc1a834-91a7-4032-89b8-a7c3c69e86b8"
      },
      "execution_count": 73,
      "outputs": [
        {
          "output_type": "execute_result",
          "data": {
            "text/plain": [
              "7"
            ]
          },
          "metadata": {},
          "execution_count": 73
        }
      ]
    },
    {
      "cell_type": "code",
      "source": [
        "t1.index(6)"
      ],
      "metadata": {
        "colab": {
          "base_uri": "https://localhost:8080/"
        },
        "id": "Og2bPH5EbgVF",
        "outputId": "c4811d58-9859-432a-8fef-3945418366b6"
      },
      "execution_count": 75,
      "outputs": [
        {
          "output_type": "execute_result",
          "data": {
            "text/plain": [
              "3"
            ]
          },
          "metadata": {},
          "execution_count": 75
        }
      ]
    },
    {
      "cell_type": "markdown",
      "source": [
        "#set"
      ],
      "metadata": {
        "id": "dzzSI1xGbvoh"
      }
    },
    {
      "cell_type": "code",
      "source": [
        "s1 = {1,2,3,4,5,6}"
      ],
      "metadata": {
        "id": "6wE_lT6gbod5"
      },
      "execution_count": 76,
      "outputs": []
    },
    {
      "cell_type": "markdown",
      "source": [
        "#dict"
      ],
      "metadata": {
        "id": "Ve2uilzccAHj"
      }
    },
    {
      "cell_type": "code",
      "source": [
        "student = {\"name\":\"pranjal\", \"age\":21}"
      ],
      "metadata": {
        "id": "c4BiVYv1b0wl"
      },
      "execution_count": 77,
      "outputs": []
    },
    {
      "cell_type": "code",
      "source": [
        "student.get(\"name\")"
      ],
      "metadata": {
        "colab": {
          "base_uri": "https://localhost:8080/",
          "height": 35
        },
        "id": "8EEZkRIScPFk",
        "outputId": "ff5d38e9-1e6e-4ff5-bfaf-05d90ebc5778"
      },
      "execution_count": 78,
      "outputs": [
        {
          "output_type": "execute_result",
          "data": {
            "text/plain": [
              "'pranjal'"
            ],
            "application/vnd.google.colaboratory.intrinsic+json": {
              "type": "string"
            }
          },
          "metadata": {},
          "execution_count": 78
        }
      ]
    },
    {
      "cell_type": "code",
      "source": [
        "student.keys()"
      ],
      "metadata": {
        "colab": {
          "base_uri": "https://localhost:8080/"
        },
        "id": "rnNSUrgscUXV",
        "outputId": "909ae3b0-08f4-4bb0-9c90-fe6a29374c0f"
      },
      "execution_count": 79,
      "outputs": [
        {
          "output_type": "execute_result",
          "data": {
            "text/plain": [
              "dict_keys(['name', 'age'])"
            ]
          },
          "metadata": {},
          "execution_count": 79
        }
      ]
    },
    {
      "cell_type": "code",
      "source": [
        "student.values()"
      ],
      "metadata": {
        "colab": {
          "base_uri": "https://localhost:8080/"
        },
        "id": "AVAjfbSEccIy",
        "outputId": "e3dc4758-67c9-4264-ae21-183e446f89f3"
      },
      "execution_count": 80,
      "outputs": [
        {
          "output_type": "execute_result",
          "data": {
            "text/plain": [
              "dict_values(['pranjal', 21])"
            ]
          },
          "metadata": {},
          "execution_count": 80
        }
      ]
    },
    {
      "cell_type": "markdown",
      "source": [
        "#slicing"
      ],
      "metadata": {
        "id": "SJgV6ds0cn9y"
      }
    },
    {
      "cell_type": "code",
      "source": [
        "list = [10,20,30,40,50,60,70,80,90]"
      ],
      "metadata": {
        "id": "10w3MRSvcfZV"
      },
      "execution_count": 81,
      "outputs": []
    },
    {
      "cell_type": "code",
      "source": [
        "list[1:4]"
      ],
      "metadata": {
        "colab": {
          "base_uri": "https://localhost:8080/"
        },
        "id": "cmvxgpUlcupG",
        "outputId": "e78bde65-8f09-4584-982d-a60fe998c17f"
      },
      "execution_count": 82,
      "outputs": [
        {
          "output_type": "execute_result",
          "data": {
            "text/plain": [
              "[20, 30, 40]"
            ]
          },
          "metadata": {},
          "execution_count": 82
        }
      ]
    },
    {
      "cell_type": "code",
      "source": [
        "list[:4]"
      ],
      "metadata": {
        "colab": {
          "base_uri": "https://localhost:8080/"
        },
        "id": "6iVBgkQ2cyJF",
        "outputId": "6ccfd888-343c-4895-ebb6-b19568252d75"
      },
      "execution_count": 83,
      "outputs": [
        {
          "output_type": "execute_result",
          "data": {
            "text/plain": [
              "[10, 20, 30, 40]"
            ]
          },
          "metadata": {},
          "execution_count": 83
        }
      ]
    },
    {
      "cell_type": "code",
      "source": [
        "list[4:]"
      ],
      "metadata": {
        "colab": {
          "base_uri": "https://localhost:8080/"
        },
        "id": "hMqMAz8xc6Hd",
        "outputId": "272fdc9d-be20-4a2e-f970-57dfb186b8e8"
      },
      "execution_count": 84,
      "outputs": [
        {
          "output_type": "execute_result",
          "data": {
            "text/plain": [
              "[50, 60, 70, 80, 90]"
            ]
          },
          "metadata": {},
          "execution_count": 84
        }
      ]
    },
    {
      "cell_type": "code",
      "source": [
        "tuple = (40,40,80,90,50,60,70,80,50,1022,45,65)"
      ],
      "metadata": {
        "id": "R3l0AHkvc9DE"
      },
      "execution_count": 85,
      "outputs": []
    },
    {
      "cell_type": "code",
      "source": [
        "tuple[4:8]"
      ],
      "metadata": {
        "colab": {
          "base_uri": "https://localhost:8080/"
        },
        "id": "I_G3EFz2dEuh",
        "outputId": "12a41f5e-3755-4783-ab68-3335e288a845"
      },
      "execution_count": 86,
      "outputs": [
        {
          "output_type": "execute_result",
          "data": {
            "text/plain": [
              "(50, 60, 70, 80)"
            ]
          },
          "metadata": {},
          "execution_count": 86
        }
      ]
    },
    {
      "cell_type": "markdown",
      "source": [
        "#methods in string"
      ],
      "metadata": {
        "id": "KbDLV2rhdXAv"
      }
    },
    {
      "cell_type": "code",
      "source": [
        "text = \"hello world\""
      ],
      "metadata": {
        "id": "q4_WyZM-dIz-"
      },
      "execution_count": 87,
      "outputs": []
    },
    {
      "cell_type": "code",
      "source": [
        "text.upper()"
      ],
      "metadata": {
        "colab": {
          "base_uri": "https://localhost:8080/",
          "height": 35
        },
        "id": "bz87_LO3dbmL",
        "outputId": "0123903e-c8f8-416c-ee3d-484a9e238e35"
      },
      "execution_count": 88,
      "outputs": [
        {
          "output_type": "execute_result",
          "data": {
            "text/plain": [
              "'HELLO WORLD'"
            ],
            "application/vnd.google.colaboratory.intrinsic+json": {
              "type": "string"
            }
          },
          "metadata": {},
          "execution_count": 88
        }
      ]
    },
    {
      "cell_type": "code",
      "source": [
        "text.lower()"
      ],
      "metadata": {
        "colab": {
          "base_uri": "https://localhost:8080/",
          "height": 35
        },
        "id": "sGySi6dqdd-w",
        "outputId": "95dac462-de97-49a4-8974-313cb042dcfd"
      },
      "execution_count": 89,
      "outputs": [
        {
          "output_type": "execute_result",
          "data": {
            "text/plain": [
              "'hello world'"
            ],
            "application/vnd.google.colaboratory.intrinsic+json": {
              "type": "string"
            }
          },
          "metadata": {},
          "execution_count": 89
        }
      ]
    },
    {
      "cell_type": "code",
      "source": [
        "text.capitalize()"
      ],
      "metadata": {
        "colab": {
          "base_uri": "https://localhost:8080/",
          "height": 35
        },
        "id": "5W1OOYzndgv9",
        "outputId": "4fe9e42e-2baa-4c17-dfc2-fa6b1a796295"
      },
      "execution_count": 90,
      "outputs": [
        {
          "output_type": "execute_result",
          "data": {
            "text/plain": [
              "'Hello world'"
            ],
            "application/vnd.google.colaboratory.intrinsic+json": {
              "type": "string"
            }
          },
          "metadata": {},
          "execution_count": 90
        }
      ]
    },
    {
      "cell_type": "code",
      "source": [
        "text.title()"
      ],
      "metadata": {
        "colab": {
          "base_uri": "https://localhost:8080/",
          "height": 35
        },
        "id": "PGxS2ZqgdjQ2",
        "outputId": "facfa405-492e-4cce-e6f0-d4a8e84d9bab"
      },
      "execution_count": 91,
      "outputs": [
        {
          "output_type": "execute_result",
          "data": {
            "text/plain": [
              "'Hello World'"
            ],
            "application/vnd.google.colaboratory.intrinsic+json": {
              "type": "string"
            }
          },
          "metadata": {},
          "execution_count": 91
        }
      ]
    },
    {
      "cell_type": "code",
      "source": [
        "text.swapcase()"
      ],
      "metadata": {
        "colab": {
          "base_uri": "https://localhost:8080/",
          "height": 35
        },
        "id": "tJ5aZkXYdmbQ",
        "outputId": "d4e4b10d-36df-4e30-96c4-f825b9a76c01"
      },
      "execution_count": 92,
      "outputs": [
        {
          "output_type": "execute_result",
          "data": {
            "text/plain": [
              "'HELLO WORLD'"
            ],
            "application/vnd.google.colaboratory.intrinsic+json": {
              "type": "string"
            }
          },
          "metadata": {},
          "execution_count": 92
        }
      ]
    },
    {
      "cell_type": "code",
      "source": [
        "text.count(\"hello\")"
      ],
      "metadata": {
        "colab": {
          "base_uri": "https://localhost:8080/"
        },
        "id": "2JqNOBIXdsZ8",
        "outputId": "0984f5e8-1fd2-4f52-c771-4887a8077707"
      },
      "execution_count": 93,
      "outputs": [
        {
          "output_type": "execute_result",
          "data": {
            "text/plain": [
              "1"
            ]
          },
          "metadata": {},
          "execution_count": 93
        }
      ]
    },
    {
      "cell_type": "code",
      "source": [
        "text.endswith(\"world\")"
      ],
      "metadata": {
        "colab": {
          "base_uri": "https://localhost:8080/"
        },
        "id": "dKAcmD9Fdxx4",
        "outputId": "6ce2b81f-ff71-46be-a5ef-130669e0b383"
      },
      "execution_count": 95,
      "outputs": [
        {
          "output_type": "execute_result",
          "data": {
            "text/plain": [
              "True"
            ]
          },
          "metadata": {},
          "execution_count": 95
        }
      ]
    },
    {
      "cell_type": "code",
      "source": [
        "text1 = \"       hello     world     \""
      ],
      "metadata": {
        "id": "A0rmEn3sd-sV"
      },
      "execution_count": 97,
      "outputs": []
    },
    {
      "cell_type": "code",
      "source": [
        "text1.strip()"
      ],
      "metadata": {
        "colab": {
          "base_uri": "https://localhost:8080/",
          "height": 35
        },
        "id": "wMtb1GhkeHlj",
        "outputId": "2efaeb99-d9e3-4d84-9450-f90eb563a19c"
      },
      "execution_count": 98,
      "outputs": [
        {
          "output_type": "execute_result",
          "data": {
            "text/plain": [
              "'hello     world'"
            ],
            "application/vnd.google.colaboratory.intrinsic+json": {
              "type": "string"
            }
          },
          "metadata": {},
          "execution_count": 98
        }
      ]
    },
    {
      "cell_type": "code",
      "source": [
        "text1.lstrip()"
      ],
      "metadata": {
        "colab": {
          "base_uri": "https://localhost:8080/",
          "height": 35
        },
        "id": "wGQxnBsdeMnZ",
        "outputId": "64042279-0d38-4f83-ed87-788e968478cc"
      },
      "execution_count": 99,
      "outputs": [
        {
          "output_type": "execute_result",
          "data": {
            "text/plain": [
              "'hello     world     '"
            ],
            "application/vnd.google.colaboratory.intrinsic+json": {
              "type": "string"
            }
          },
          "metadata": {},
          "execution_count": 99
        }
      ]
    },
    {
      "cell_type": "markdown",
      "source": [
        "#opertors"
      ],
      "metadata": {
        "id": "YtG5VjCiebsP"
      }
    },
    {
      "cell_type": "markdown",
      "source": [
        "#arrithmatics operatos"
      ],
      "metadata": {
        "id": "87lghx7bfuT1"
      }
    },
    {
      "cell_type": "code",
      "source": [
        "# = - assign operator"
      ],
      "metadata": {
        "id": "YdPwAIw8eRH3"
      },
      "execution_count": 100,
      "outputs": []
    },
    {
      "cell_type": "code",
      "source": [
        "a = 10\n",
        "b = 20"
      ],
      "metadata": {
        "id": "MnfJ6ze0emHW"
      },
      "execution_count": 101,
      "outputs": []
    },
    {
      "cell_type": "code",
      "source": [
        "a"
      ],
      "metadata": {
        "colab": {
          "base_uri": "https://localhost:8080/"
        },
        "id": "4kkOWIrCeobG",
        "outputId": "98e06b11-b709-4ade-c07b-12707066c574"
      },
      "execution_count": 102,
      "outputs": [
        {
          "output_type": "execute_result",
          "data": {
            "text/plain": [
              "10"
            ]
          },
          "metadata": {},
          "execution_count": 102
        }
      ]
    },
    {
      "cell_type": "code",
      "source": [
        "c , d = 50, 60"
      ],
      "metadata": {
        "id": "OCO4rJUgep9B"
      },
      "execution_count": 103,
      "outputs": []
    },
    {
      "cell_type": "code",
      "source": [
        "d"
      ],
      "metadata": {
        "colab": {
          "base_uri": "https://localhost:8080/"
        },
        "id": "WEaxv76pes-B",
        "outputId": "00839f81-c0bf-4163-aeba-c9915cc5caaa"
      },
      "execution_count": 104,
      "outputs": [
        {
          "output_type": "execute_result",
          "data": {
            "text/plain": [
              "60"
            ]
          },
          "metadata": {},
          "execution_count": 104
        }
      ]
    },
    {
      "cell_type": "code",
      "source": [
        "a + b"
      ],
      "metadata": {
        "colab": {
          "base_uri": "https://localhost:8080/"
        },
        "id": "1_zv7fcjeuFI",
        "outputId": "1479014b-de29-4b56-f705-effce563ceef"
      },
      "execution_count": 105,
      "outputs": [
        {
          "output_type": "execute_result",
          "data": {
            "text/plain": [
              "30"
            ]
          },
          "metadata": {},
          "execution_count": 105
        }
      ]
    },
    {
      "cell_type": "code",
      "source": [
        "4 + 5"
      ],
      "metadata": {
        "colab": {
          "base_uri": "https://localhost:8080/"
        },
        "id": "eMeftxlHewi-",
        "outputId": "612c5870-68fe-4772-e149-f04548911079"
      },
      "execution_count": 106,
      "outputs": [
        {
          "output_type": "execute_result",
          "data": {
            "text/plain": [
              "9"
            ]
          },
          "metadata": {},
          "execution_count": 106
        }
      ]
    },
    {
      "cell_type": "code",
      "source": [
        "d - c"
      ],
      "metadata": {
        "colab": {
          "base_uri": "https://localhost:8080/"
        },
        "id": "oCYN8O6ce0yh",
        "outputId": "80fa95ad-09d8-43e5-b95d-5a1201b6b798"
      },
      "execution_count": 107,
      "outputs": [
        {
          "output_type": "execute_result",
          "data": {
            "text/plain": [
              "10"
            ]
          },
          "metadata": {},
          "execution_count": 107
        }
      ]
    },
    {
      "cell_type": "code",
      "source": [
        "d * 4"
      ],
      "metadata": {
        "colab": {
          "base_uri": "https://localhost:8080/"
        },
        "id": "YOYEti1je3gs",
        "outputId": "206b1b5e-f119-4f6d-d3ff-52170bc56c62"
      },
      "execution_count": 108,
      "outputs": [
        {
          "output_type": "execute_result",
          "data": {
            "text/plain": [
              "240"
            ]
          },
          "metadata": {},
          "execution_count": 108
        }
      ]
    },
    {
      "cell_type": "code",
      "source": [
        "c / 4"
      ],
      "metadata": {
        "colab": {
          "base_uri": "https://localhost:8080/"
        },
        "id": "eEGeqRkEe6Zn",
        "outputId": "0d1a2e70-6fdd-477d-b8ce-e84298b6ed60"
      },
      "execution_count": 109,
      "outputs": [
        {
          "output_type": "execute_result",
          "data": {
            "text/plain": [
              "12.5"
            ]
          },
          "metadata": {},
          "execution_count": 109
        }
      ]
    },
    {
      "cell_type": "code",
      "source": [
        "# floor division"
      ],
      "metadata": {
        "id": "69VJ92c3e82G"
      },
      "execution_count": 110,
      "outputs": []
    },
    {
      "cell_type": "code",
      "source": [
        "15 / 7"
      ],
      "metadata": {
        "colab": {
          "base_uri": "https://localhost:8080/"
        },
        "id": "hjmmIcs0fA4Y",
        "outputId": "fdf17366-8e9b-4cb5-bdb2-f503927d6c6a"
      },
      "execution_count": 111,
      "outputs": [
        {
          "output_type": "execute_result",
          "data": {
            "text/plain": [
              "2.142857142857143"
            ]
          },
          "metadata": {},
          "execution_count": 111
        }
      ]
    },
    {
      "cell_type": "code",
      "source": [
        "15 // 7"
      ],
      "metadata": {
        "colab": {
          "base_uri": "https://localhost:8080/"
        },
        "id": "DBbCeLN3fCyV",
        "outputId": "16615d49-0ceb-4ac9-c683-37290f387b18"
      },
      "execution_count": 112,
      "outputs": [
        {
          "output_type": "execute_result",
          "data": {
            "text/plain": [
              "2"
            ]
          },
          "metadata": {},
          "execution_count": 112
        }
      ]
    },
    {
      "cell_type": "code",
      "source": [
        "# modulo - %"
      ],
      "metadata": {
        "id": "xJlgN25dfHKt"
      },
      "execution_count": 113,
      "outputs": []
    },
    {
      "cell_type": "code",
      "source": [
        "15 // 7"
      ],
      "metadata": {
        "colab": {
          "base_uri": "https://localhost:8080/"
        },
        "id": "t8UAYf-pfOoF",
        "outputId": "e24659ce-6787-4fc2-a172-2130ef0974c6"
      },
      "execution_count": 115,
      "outputs": [
        {
          "output_type": "execute_result",
          "data": {
            "text/plain": [
              "2"
            ]
          },
          "metadata": {},
          "execution_count": 115
        }
      ]
    },
    {
      "cell_type": "code",
      "source": [
        "15 % 7"
      ],
      "metadata": {
        "colab": {
          "base_uri": "https://localhost:8080/"
        },
        "id": "i35vRDDRfQmH",
        "outputId": "717af3af-7716-4135-c24d-77327b70f50a"
      },
      "execution_count": 116,
      "outputs": [
        {
          "output_type": "execute_result",
          "data": {
            "text/plain": [
              "1"
            ]
          },
          "metadata": {},
          "execution_count": 116
        }
      ]
    },
    {
      "cell_type": "code",
      "source": [
        "#exponentials (**)"
      ],
      "metadata": {
        "id": "h0b4LagNfVLP"
      },
      "execution_count": 117,
      "outputs": []
    },
    {
      "cell_type": "code",
      "source": [
        "2 ** 3"
      ],
      "metadata": {
        "colab": {
          "base_uri": "https://localhost:8080/"
        },
        "id": "ACCRRIIAfaO3",
        "outputId": "11a32d99-ecf9-4722-fffe-e17c96053dac"
      },
      "execution_count": 119,
      "outputs": [
        {
          "output_type": "execute_result",
          "data": {
            "text/plain": [
              "8"
            ]
          },
          "metadata": {},
          "execution_count": 119
        }
      ]
    },
    {
      "cell_type": "markdown",
      "source": [
        "#comparisons operatos"
      ],
      "metadata": {
        "id": "PIPmFSHHfxbW"
      }
    },
    {
      "cell_type": "code",
      "source": [
        "#comparator operatos"
      ],
      "metadata": {
        "id": "uylvjRNcfbDi"
      },
      "execution_count": 120,
      "outputs": []
    },
    {
      "cell_type": "code",
      "source": [
        "5 == 4"
      ],
      "metadata": {
        "colab": {
          "base_uri": "https://localhost:8080/"
        },
        "id": "zNeNKSImfe-4",
        "outputId": "5d10e15f-d9d1-41dc-a174-50c0a39197d8"
      },
      "execution_count": 121,
      "outputs": [
        {
          "output_type": "execute_result",
          "data": {
            "text/plain": [
              "False"
            ]
          },
          "metadata": {},
          "execution_count": 121
        }
      ]
    },
    {
      "cell_type": "code",
      "source": [
        "5 == 5"
      ],
      "metadata": {
        "colab": {
          "base_uri": "https://localhost:8080/"
        },
        "id": "fTEe-4Offgmf",
        "outputId": "c03b90a7-c78c-4203-ea64-83e0ea2969d0"
      },
      "execution_count": 122,
      "outputs": [
        {
          "output_type": "execute_result",
          "data": {
            "text/plain": [
              "True"
            ]
          },
          "metadata": {},
          "execution_count": 122
        }
      ]
    },
    {
      "cell_type": "code",
      "source": [
        "5 != 4   #not equals to"
      ],
      "metadata": {
        "colab": {
          "base_uri": "https://localhost:8080/"
        },
        "id": "qwwH3ebWfiWF",
        "outputId": "c0f4ec84-e354-4435-883d-e183ea1fca97"
      },
      "execution_count": 123,
      "outputs": [
        {
          "output_type": "execute_result",
          "data": {
            "text/plain": [
              "True"
            ]
          },
          "metadata": {},
          "execution_count": 123
        }
      ]
    },
    {
      "cell_type": "code",
      "source": [
        " 5 > 4  #greater than"
      ],
      "metadata": {
        "colab": {
          "base_uri": "https://localhost:8080/"
        },
        "id": "8EIFSRY-flaZ",
        "outputId": "5f1837a2-1a8a-4a84-f9e6-5accc9b602ea"
      },
      "execution_count": 124,
      "outputs": [
        {
          "output_type": "execute_result",
          "data": {
            "text/plain": [
              "True"
            ]
          },
          "metadata": {},
          "execution_count": 124
        }
      ]
    },
    {
      "cell_type": "code",
      "source": [
        "5 < 4  #less than"
      ],
      "metadata": {
        "colab": {
          "base_uri": "https://localhost:8080/"
        },
        "id": "MwHSULLNfpIq",
        "outputId": "5945a040-f20a-43fb-9edf-d09011b9502a"
      },
      "execution_count": 126,
      "outputs": [
        {
          "output_type": "execute_result",
          "data": {
            "text/plain": [
              "False"
            ]
          },
          "metadata": {},
          "execution_count": 126
        }
      ]
    },
    {
      "cell_type": "code",
      "source": [
        "5 >= 4  #greater than equal to"
      ],
      "metadata": {
        "colab": {
          "base_uri": "https://localhost:8080/"
        },
        "id": "3v0Hcudef4ia",
        "outputId": "72d519b8-a484-4a62-b430-72a41d50afd0"
      },
      "execution_count": 127,
      "outputs": [
        {
          "output_type": "execute_result",
          "data": {
            "text/plain": [
              "True"
            ]
          },
          "metadata": {},
          "execution_count": 127
        }
      ]
    },
    {
      "cell_type": "code",
      "source": [
        "5 <= 4   #less than eqal to"
      ],
      "metadata": {
        "colab": {
          "base_uri": "https://localhost:8080/"
        },
        "id": "sn6BSDeZf_E8",
        "outputId": "ee63811f-5a9e-40f3-f32b-c40f4676826b"
      },
      "execution_count": 128,
      "outputs": [
        {
          "output_type": "execute_result",
          "data": {
            "text/plain": [
              "False"
            ]
          },
          "metadata": {},
          "execution_count": 128
        }
      ]
    },
    {
      "cell_type": "markdown",
      "source": [
        "#logical operators"
      ],
      "metadata": {
        "id": "oq-VZ_aTgHR_"
      }
    },
    {
      "cell_type": "code",
      "source": [
        "True and True"
      ],
      "metadata": {
        "colab": {
          "base_uri": "https://localhost:8080/"
        },
        "id": "LnOt4WfYgBYQ",
        "outputId": "508d0a99-94bd-4ca0-920e-a16486937bb6"
      },
      "execution_count": 129,
      "outputs": [
        {
          "output_type": "execute_result",
          "data": {
            "text/plain": [
              "True"
            ]
          },
          "metadata": {},
          "execution_count": 129
        }
      ]
    },
    {
      "cell_type": "code",
      "source": [
        "True and False"
      ],
      "metadata": {
        "colab": {
          "base_uri": "https://localhost:8080/"
        },
        "id": "bxwPd5FBgSYw",
        "outputId": "5381e11e-129d-41e4-ea7a-f716affdf71c"
      },
      "execution_count": 130,
      "outputs": [
        {
          "output_type": "execute_result",
          "data": {
            "text/plain": [
              "False"
            ]
          },
          "metadata": {},
          "execution_count": 130
        }
      ]
    },
    {
      "cell_type": "code",
      "source": [
        "True or True"
      ],
      "metadata": {
        "colab": {
          "base_uri": "https://localhost:8080/"
        },
        "id": "k_OTb-fxgWHA",
        "outputId": "375172dc-3e8d-4e1b-c2f9-7552c9715d5d"
      },
      "execution_count": 132,
      "outputs": [
        {
          "output_type": "execute_result",
          "data": {
            "text/plain": [
              "True"
            ]
          },
          "metadata": {},
          "execution_count": 132
        }
      ]
    },
    {
      "cell_type": "code",
      "source": [
        "True or False"
      ],
      "metadata": {
        "colab": {
          "base_uri": "https://localhost:8080/"
        },
        "id": "e0JWBd6ugZQU",
        "outputId": "2455bdec-cb43-48f7-8d4f-38e516056bea"
      },
      "execution_count": 133,
      "outputs": [
        {
          "output_type": "execute_result",
          "data": {
            "text/plain": [
              "True"
            ]
          },
          "metadata": {},
          "execution_count": 133
        }
      ]
    },
    {
      "cell_type": "code",
      "source": [
        "not True"
      ],
      "metadata": {
        "colab": {
          "base_uri": "https://localhost:8080/"
        },
        "id": "x1JcOtdcgev3",
        "outputId": "531ac8c0-01e3-4c3c-c4b2-87abf70772b5"
      },
      "execution_count": 134,
      "outputs": [
        {
          "output_type": "execute_result",
          "data": {
            "text/plain": [
              "False"
            ]
          },
          "metadata": {},
          "execution_count": 134
        }
      ]
    },
    {
      "cell_type": "code",
      "source": [],
      "metadata": {
        "id": "pFwf_-1JgiJG"
      },
      "execution_count": null,
      "outputs": []
    },
    {
      "cell_type": "markdown",
      "source": [
        "#assignment operators"
      ],
      "metadata": {
        "id": "WU2uIrtPgsxl"
      }
    },
    {
      "cell_type": "code",
      "source": [
        "x = 5"
      ],
      "metadata": {
        "id": "cvwZ6m9YguNG"
      },
      "execution_count": 135,
      "outputs": []
    },
    {
      "cell_type": "code",
      "source": [
        "x = x + 3"
      ],
      "metadata": {
        "id": "diD3rDYVgvvi"
      },
      "execution_count": 136,
      "outputs": []
    },
    {
      "cell_type": "code",
      "source": [
        "x"
      ],
      "metadata": {
        "colab": {
          "base_uri": "https://localhost:8080/"
        },
        "id": "9-GKqARWgzSu",
        "outputId": "5a5ac39d-f2d5-4902-a8b2-a650e2fde966"
      },
      "execution_count": 137,
      "outputs": [
        {
          "output_type": "execute_result",
          "data": {
            "text/plain": [
              "8"
            ]
          },
          "metadata": {},
          "execution_count": 137
        }
      ]
    },
    {
      "cell_type": "code",
      "source": [
        "y = 5"
      ],
      "metadata": {
        "id": "LB_cy1Xjg0RG"
      },
      "execution_count": 138,
      "outputs": []
    },
    {
      "cell_type": "code",
      "source": [
        "y += 3"
      ],
      "metadata": {
        "id": "1NYjZ_L0g3Pc"
      },
      "execution_count": 139,
      "outputs": []
    },
    {
      "cell_type": "code",
      "source": [
        "y"
      ],
      "metadata": {
        "colab": {
          "base_uri": "https://localhost:8080/"
        },
        "id": "SwXIXgUHg5XN",
        "outputId": "4935f787-571e-4dc2-93b8-4a271dad6d33"
      },
      "execution_count": 140,
      "outputs": [
        {
          "output_type": "execute_result",
          "data": {
            "text/plain": [
              "8"
            ]
          },
          "metadata": {},
          "execution_count": 140
        }
      ]
    },
    {
      "cell_type": "code",
      "source": [
        "i = 1"
      ],
      "metadata": {
        "id": "5ZdeON78g6Vu"
      },
      "execution_count": 141,
      "outputs": []
    },
    {
      "cell_type": "code",
      "source": [
        "i = i + 1"
      ],
      "metadata": {
        "id": "9kcReoiZhBR5"
      },
      "execution_count": 142,
      "outputs": []
    },
    {
      "cell_type": "code",
      "source": [
        "i"
      ],
      "metadata": {
        "colab": {
          "base_uri": "https://localhost:8080/"
        },
        "id": "231ZLYeMhDwQ",
        "outputId": "a38ba02e-24e9-49a3-a3ff-bda93f8c1a8e"
      },
      "execution_count": 143,
      "outputs": [
        {
          "output_type": "execute_result",
          "data": {
            "text/plain": [
              "2"
            ]
          },
          "metadata": {},
          "execution_count": 143
        }
      ]
    },
    {
      "cell_type": "code",
      "source": [
        "i += 1"
      ],
      "metadata": {
        "id": "oARHWFCqhEXe"
      },
      "execution_count": 144,
      "outputs": []
    },
    {
      "cell_type": "code",
      "source": [
        "i"
      ],
      "metadata": {
        "colab": {
          "base_uri": "https://localhost:8080/"
        },
        "id": "yA18uznAhGXk",
        "outputId": "f25a7fcf-238b-4cb7-9167-af99adf18c0b"
      },
      "execution_count": 145,
      "outputs": [
        {
          "output_type": "execute_result",
          "data": {
            "text/plain": [
              "3"
            ]
          },
          "metadata": {},
          "execution_count": 145
        }
      ]
    },
    {
      "cell_type": "code",
      "source": [
        "i +=1"
      ],
      "metadata": {
        "id": "oA8yw5WShHWT"
      },
      "execution_count": 146,
      "outputs": []
    },
    {
      "cell_type": "code",
      "source": [
        "i"
      ],
      "metadata": {
        "colab": {
          "base_uri": "https://localhost:8080/"
        },
        "id": "mjJPy-LshJQy",
        "outputId": "5036344c-ec35-40cf-d2ef-626678aa8dc8"
      },
      "execution_count": 147,
      "outputs": [
        {
          "output_type": "execute_result",
          "data": {
            "text/plain": [
              "4"
            ]
          },
          "metadata": {},
          "execution_count": 147
        }
      ]
    },
    {
      "cell_type": "code",
      "source": [
        "i -=1"
      ],
      "metadata": {
        "id": "KBGAPETIhJ2Q"
      },
      "execution_count": 148,
      "outputs": []
    },
    {
      "cell_type": "code",
      "source": [
        "i"
      ],
      "metadata": {
        "colab": {
          "base_uri": "https://localhost:8080/"
        },
        "id": "5jtWrzDVhLtb",
        "outputId": "3de78c20-5f5f-42bf-a3b7-080091ba21e1"
      },
      "execution_count": 149,
      "outputs": [
        {
          "output_type": "execute_result",
          "data": {
            "text/plain": [
              "3"
            ]
          },
          "metadata": {},
          "execution_count": 149
        }
      ]
    },
    {
      "cell_type": "code",
      "source": [
        "x = 3"
      ],
      "metadata": {
        "id": "XvpCFeE5hMp-"
      },
      "execution_count": 150,
      "outputs": []
    },
    {
      "cell_type": "code",
      "source": [
        "x"
      ],
      "metadata": {
        "colab": {
          "base_uri": "https://localhost:8080/"
        },
        "id": "Ih7pHvlLhPfB",
        "outputId": "b0d1626f-018b-4e0a-f35c-893a5831d10e"
      },
      "execution_count": 151,
      "outputs": [
        {
          "output_type": "execute_result",
          "data": {
            "text/plain": [
              "3"
            ]
          },
          "metadata": {},
          "execution_count": 151
        }
      ]
    },
    {
      "cell_type": "code",
      "source": [
        "x *=3"
      ],
      "metadata": {
        "id": "ax-TyQ30hQpt"
      },
      "execution_count": 152,
      "outputs": []
    },
    {
      "cell_type": "code",
      "source": [
        "x"
      ],
      "metadata": {
        "colab": {
          "base_uri": "https://localhost:8080/"
        },
        "id": "qC1LqWHFhTZw",
        "outputId": "fa5786cf-e9ed-4087-990a-d9badb80570a"
      },
      "execution_count": 153,
      "outputs": [
        {
          "output_type": "execute_result",
          "data": {
            "text/plain": [
              "9"
            ]
          },
          "metadata": {},
          "execution_count": 153
        }
      ]
    },
    {
      "cell_type": "markdown",
      "source": [
        "#print function"
      ],
      "metadata": {
        "id": "zM8ASISAhfab"
      }
    },
    {
      "cell_type": "code",
      "source": [
        "a = 10"
      ],
      "metadata": {
        "id": "80QMesrqhULD"
      },
      "execution_count": 154,
      "outputs": []
    },
    {
      "cell_type": "code",
      "source": [
        "a"
      ],
      "metadata": {
        "colab": {
          "base_uri": "https://localhost:8080/"
        },
        "id": "4XzZBNlXhh1t",
        "outputId": "e7ba2f8d-8040-40c0-fc81-f40fff8f3f59"
      },
      "execution_count": 155,
      "outputs": [
        {
          "output_type": "execute_result",
          "data": {
            "text/plain": [
              "10"
            ]
          },
          "metadata": {},
          "execution_count": 155
        }
      ]
    },
    {
      "cell_type": "code",
      "source": [
        "print(a)"
      ],
      "metadata": {
        "colab": {
          "base_uri": "https://localhost:8080/"
        },
        "id": "7KKSNPLahi39",
        "outputId": "1fb08925-0083-46c8-e399-b54eb275489a"
      },
      "execution_count": 156,
      "outputs": [
        {
          "output_type": "stream",
          "name": "stdout",
          "text": [
            "10\n"
          ]
        }
      ]
    },
    {
      "cell_type": "code",
      "source": [
        "print(\"The value of a is :-\", a)"
      ],
      "metadata": {
        "colab": {
          "base_uri": "https://localhost:8080/"
        },
        "id": "G7D9DbsbhkgP",
        "outputId": "c6cf978d-7972-4fd8-9da5-920598923b45"
      },
      "execution_count": 157,
      "outputs": [
        {
          "output_type": "stream",
          "name": "stdout",
          "text": [
            "The value of a is :- 10\n"
          ]
        }
      ]
    },
    {
      "cell_type": "code",
      "source": [
        "a = 10"
      ],
      "metadata": {
        "id": "Ed1qDKD0hqkx"
      },
      "execution_count": 158,
      "outputs": []
    },
    {
      "cell_type": "code",
      "source": [
        "b = 20"
      ],
      "metadata": {
        "id": "b_IuoHLMh07a"
      },
      "execution_count": 159,
      "outputs": []
    },
    {
      "cell_type": "code",
      "source": [
        "#tha addition of a = 10, and b = 20 is 30"
      ],
      "metadata": {
        "id": "PkaOEYrah16f"
      },
      "execution_count": 160,
      "outputs": []
    },
    {
      "cell_type": "code",
      "source": [
        "f\"The addition of a = {a} and b = {b} is {a + b}\"   #f string function"
      ],
      "metadata": {
        "colab": {
          "base_uri": "https://localhost:8080/",
          "height": 35
        },
        "id": "IKmXaZjxh78W",
        "outputId": "cebd43d1-f1e1-4028-a1f0-46b2fd02ba60"
      },
      "execution_count": 162,
      "outputs": [
        {
          "output_type": "execute_result",
          "data": {
            "text/plain": [
              "'The addition of a = 10 and b = 20 is 30'"
            ],
            "application/vnd.google.colaboratory.intrinsic+json": {
              "type": "string"
            }
          },
          "metadata": {},
          "execution_count": 162
        }
      ]
    },
    {
      "cell_type": "code",
      "source": [],
      "metadata": {
        "id": "EASMbpNyiNNU"
      },
      "execution_count": null,
      "outputs": []
    }
  ]
}