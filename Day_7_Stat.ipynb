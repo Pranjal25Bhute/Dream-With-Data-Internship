{
  "nbformat": 4,
  "nbformat_minor": 0,
  "metadata": {
    "colab": {
      "provenance": []
    },
    "kernelspec": {
      "name": "python3",
      "display_name": "Python 3"
    },
    "language_info": {
      "name": "python"
    }
  },
  "cells": [
    {
      "cell_type": "markdown",
      "source": [
        "# FOR LOOP"
      ],
      "metadata": {
        "id": "E7yXgdfTfYAo"
      }
    },
    {
      "cell_type": "code",
      "execution_count": 1,
      "metadata": {
        "id": "dX2D13wvez-n"
      },
      "outputs": [],
      "source": [
        "fruits = [\"apple\", \"banana\", \"cherry\", \"kiwi\"]\n"
      ]
    },
    {
      "cell_type": "code",
      "source": [
        "for i in fruits:\n",
        "  print(i)        #space before the print is call indentations"
      ],
      "metadata": {
        "colab": {
          "base_uri": "https://localhost:8080/"
        },
        "id": "sskGoPyqfign",
        "outputId": "682c51b3-1bd1-4dc2-94fc-83da1ecdb439"
      },
      "execution_count": 3,
      "outputs": [
        {
          "output_type": "stream",
          "name": "stdout",
          "text": [
            "apple\n",
            "banana\n",
            "cherry\n",
            "kiwi\n"
          ]
        }
      ]
    },
    {
      "cell_type": "code",
      "source": [
        "for a in \"pranjal\":\n",
        "  print(a)"
      ],
      "metadata": {
        "colab": {
          "base_uri": "https://localhost:8080/"
        },
        "id": "NXyNHfwtgHWX",
        "outputId": "302dad34-31b4-48a1-d986-eb68f981368e"
      },
      "execution_count": 4,
      "outputs": [
        {
          "output_type": "stream",
          "name": "stdout",
          "text": [
            "p\n",
            "r\n",
            "a\n",
            "n\n",
            "j\n",
            "a\n",
            "l\n"
          ]
        }
      ]
    },
    {
      "cell_type": "code",
      "source": [
        "for i in range(11):\n",
        "  print(i)"
      ],
      "metadata": {
        "colab": {
          "base_uri": "https://localhost:8080/"
        },
        "id": "XlaU1DXkgaA9",
        "outputId": "13f035cb-59db-4ddd-c960-5b326874d5e0"
      },
      "execution_count": 5,
      "outputs": [
        {
          "output_type": "stream",
          "name": "stdout",
          "text": [
            "0\n",
            "1\n",
            "2\n",
            "3\n",
            "4\n",
            "5\n",
            "6\n",
            "7\n",
            "8\n",
            "9\n",
            "10\n"
          ]
        }
      ]
    },
    {
      "cell_type": "markdown",
      "source": [
        "#while loop\n",
        "\n",
        "- note - in while loop we need counter"
      ],
      "metadata": {
        "id": "Lz-bncoHgv02"
      }
    },
    {
      "cell_type": "code",
      "source": [
        "count = 0\n",
        "while count < 6:\n",
        "  print(count)\n",
        "  count += 1\n"
      ],
      "metadata": {
        "colab": {
          "base_uri": "https://localhost:8080/"
        },
        "id": "oqNiayV-gkTO",
        "outputId": "85427233-8637-4c77-d369-e76bd1659e5b"
      },
      "execution_count": 6,
      "outputs": [
        {
          "output_type": "stream",
          "name": "stdout",
          "text": [
            "0\n",
            "1\n",
            "2\n",
            "3\n",
            "4\n",
            "5\n"
          ]
        }
      ]
    },
    {
      "cell_type": "code",
      "source": [
        "n = 5\n",
        "factorial = 1\n",
        "while n > 0:\n",
        "  factorial = factorial * n\n",
        "  n -= 1\n",
        "print(\"factorial of 5 :-\", factorial)"
      ],
      "metadata": {
        "colab": {
          "base_uri": "https://localhost:8080/"
        },
        "id": "aaCSiHqkhWyP",
        "outputId": "08b9d0cc-5ac6-4477-93db-1a23f1b2b528"
      },
      "execution_count": 7,
      "outputs": [
        {
          "output_type": "stream",
          "name": "stdout",
          "text": [
            "factorial of 5 :- 120\n"
          ]
        }
      ]
    },
    {
      "cell_type": "markdown",
      "source": [
        "#conditional statements - IF ELSE"
      ],
      "metadata": {
        "id": "QliNjHlxiTHr"
      }
    },
    {
      "cell_type": "code",
      "source": [
        "#grade calculator"
      ],
      "metadata": {
        "id": "qZf3qhDjiQaD"
      },
      "execution_count": 9,
      "outputs": []
    },
    {
      "cell_type": "code",
      "source": [
        "score = 95\n",
        "\n",
        "if score >= 90:\n",
        "  grade = \"A\"\n",
        "else:\n",
        "  grade = \"B\""
      ],
      "metadata": {
        "id": "yJKwXLVqiH7a"
      },
      "execution_count": 12,
      "outputs": []
    },
    {
      "cell_type": "code",
      "source": [
        "print(grade)"
      ],
      "metadata": {
        "colab": {
          "base_uri": "https://localhost:8080/"
        },
        "id": "PI_6KKfoi2Eb",
        "outputId": "2c8ad8df-5d1e-4500-d4a5-25fb40927e8e"
      },
      "execution_count": 13,
      "outputs": [
        {
          "output_type": "stream",
          "name": "stdout",
          "text": [
            "A\n"
          ]
        }
      ]
    },
    {
      "cell_type": "code",
      "source": [
        "score = 60\n",
        "\n",
        "if score >= 90:\n",
        "  grade = \"A\"\n",
        "elif score >= 80:\n",
        "  grade= \"B\"\n",
        "elif score >= 70:\n",
        "  grade = \"C\"\n",
        "else:\n",
        "  grade = \"D\"\n",
        "\n",
        "\n",
        "print(grade)"
      ],
      "metadata": {
        "colab": {
          "base_uri": "https://localhost:8080/"
        },
        "id": "bozfJnOAi4po",
        "outputId": "7ae7b010-2072-4173-c4b7-7aa5d9341d0f"
      },
      "execution_count": 18,
      "outputs": [
        {
          "output_type": "stream",
          "name": "stdout",
          "text": [
            "D\n"
          ]
        }
      ]
    },
    {
      "cell_type": "code",
      "source": [
        "score = int(input(\"Enter the score :- \"))\n",
        "\n",
        "if score >= 90:\n",
        "  grade = \"A\"\n",
        "elif score >= 80:\n",
        "  grade= \"B\"\n",
        "elif score >= 70:\n",
        "  grade = \"C\"\n",
        "else:\n",
        "  grade = \"D\"\n",
        "\n",
        "\n",
        "print(grade)"
      ],
      "metadata": {
        "colab": {
          "base_uri": "https://localhost:8080/"
        },
        "id": "HrASGJmpjbAN",
        "outputId": "5f0063de-6d35-4929-ee13-1c14e093598d"
      },
      "execution_count": 20,
      "outputs": [
        {
          "output_type": "stream",
          "name": "stdout",
          "text": [
            "Enter the score :- 78\n",
            "C\n"
          ]
        }
      ]
    },
    {
      "cell_type": "markdown",
      "source": [
        "#nested if-else"
      ],
      "metadata": {
        "id": "bMptyAgQkA_J"
      }
    },
    {
      "cell_type": "code",
      "source": [
        "age = int(input(\"Enter your age :-\"))\n",
        "\n",
        "if age >= 65:\n",
        "  print(\"you are eligible for a senior citizen discount.\")\n",
        "\n",
        "else:\n",
        "  if age <= 5:\n",
        "    print(\"you are eligible for child discount\")\n",
        "  else:\n",
        "    print(\"you are eligible for regular discount\")\n",
        "\n",
        "\n",
        "\n"
      ],
      "metadata": {
        "colab": {
          "base_uri": "https://localhost:8080/"
        },
        "id": "OECfsde6kAKs",
        "outputId": "2526f4a0-a259-425c-cf81-7b6dfc5a6d5a"
      },
      "execution_count": 24,
      "outputs": [
        {
          "output_type": "stream",
          "name": "stdout",
          "text": [
            "Enter your age :-4\n",
            "you are eligible for child discount\n"
          ]
        }
      ]
    },
    {
      "cell_type": "markdown",
      "source": [
        "#function - reusable block of code"
      ],
      "metadata": {
        "id": "h9E2JWW4mFxJ"
      }
    },
    {
      "cell_type": "code",
      "source": [
        "#area of rectangle   - def - define"
      ],
      "metadata": {
        "id": "jpu37T0smFeu"
      },
      "execution_count": 26,
      "outputs": []
    },
    {
      "cell_type": "code",
      "source": [
        "def area_of_rectangle(width, height):\n",
        "  return width * height"
      ],
      "metadata": {
        "id": "bcDuJGXKjye6"
      },
      "execution_count": 27,
      "outputs": []
    },
    {
      "cell_type": "code",
      "source": [
        "area_of_rectangle(20,54)"
      ],
      "metadata": {
        "colab": {
          "base_uri": "https://localhost:8080/"
        },
        "id": "50ilpOtAmr82",
        "outputId": "839eb311-3fed-45a0-f457-942238536284"
      },
      "execution_count": 28,
      "outputs": [
        {
          "output_type": "execute_result",
          "data": {
            "text/plain": [
              "1080"
            ]
          },
          "metadata": {},
          "execution_count": 28
        }
      ]
    },
    {
      "cell_type": "code",
      "source": [
        "#chech the even and odd"
      ],
      "metadata": {
        "id": "_14OzqqSmxIM"
      },
      "execution_count": 29,
      "outputs": []
    },
    {
      "cell_type": "code",
      "source": [
        "def is_even(number):\n",
        "  return number % 2 == 0\n",
        "\n",
        "num = int(input(\"enter the number :-\"))\n",
        "\n",
        "if is_even(num):\n",
        "  print(\"number is even.\")\n",
        "else:\n",
        "  print(\"number is odd.\")"
      ],
      "metadata": {
        "colab": {
          "base_uri": "https://localhost:8080/"
        },
        "id": "SD8dAE6em18D",
        "outputId": "6f1af2d2-1987-45ff-b74c-e342c5ca256d"
      },
      "execution_count": 30,
      "outputs": [
        {
          "output_type": "stream",
          "name": "stdout",
          "text": [
            "enter the number :-3\n",
            "number is odd.\n"
          ]
        }
      ]
    },
    {
      "cell_type": "markdown",
      "source": [
        "#in build function"
      ],
      "metadata": {
        "id": "8ckOM7GXnyF6"
      }
    },
    {
      "cell_type": "code",
      "source": [
        "list = [1,2,3,4,5]"
      ],
      "metadata": {
        "id": "kbpTwPMInaUc"
      },
      "execution_count": 31,
      "outputs": []
    },
    {
      "cell_type": "code",
      "source": [
        "len(list)"
      ],
      "metadata": {
        "colab": {
          "base_uri": "https://localhost:8080/"
        },
        "id": "mzJslYsln1cW",
        "outputId": "56b8a98f-524b-48ff-8a9e-bd02d20b3a1e"
      },
      "execution_count": 33,
      "outputs": [
        {
          "output_type": "execute_result",
          "data": {
            "text/plain": [
              "5"
            ]
          },
          "metadata": {},
          "execution_count": 33
        }
      ]
    },
    {
      "cell_type": "code",
      "source": [
        "max(list)"
      ],
      "metadata": {
        "colab": {
          "base_uri": "https://localhost:8080/"
        },
        "id": "1NbSiAKzn3Rd",
        "outputId": "0067636e-e377-463a-9ebb-3b174b50aecb"
      },
      "execution_count": 34,
      "outputs": [
        {
          "output_type": "execute_result",
          "data": {
            "text/plain": [
              "5"
            ]
          },
          "metadata": {},
          "execution_count": 34
        }
      ]
    },
    {
      "cell_type": "code",
      "source": [
        "min(list)"
      ],
      "metadata": {
        "colab": {
          "base_uri": "https://localhost:8080/"
        },
        "id": "V3NDHaman6o8",
        "outputId": "6f9ec895-f134-4226-ff7a-0c0734e30bb4"
      },
      "execution_count": 35,
      "outputs": [
        {
          "output_type": "execute_result",
          "data": {
            "text/plain": [
              "1"
            ]
          },
          "metadata": {},
          "execution_count": 35
        }
      ]
    },
    {
      "cell_type": "code",
      "source": [
        "sum(list)"
      ],
      "metadata": {
        "colab": {
          "base_uri": "https://localhost:8080/"
        },
        "id": "Id6m0fixn9Kz",
        "outputId": "60b7b2c7-d322-40e2-934a-98960cbc4feb"
      },
      "execution_count": 36,
      "outputs": [
        {
          "output_type": "execute_result",
          "data": {
            "text/plain": [
              "15"
            ]
          },
          "metadata": {},
          "execution_count": 36
        }
      ]
    },
    {
      "cell_type": "code",
      "source": [
        "list =[8,7,4,8,9,6,3,4,1,2,4,5,7,8,5,1]"
      ],
      "metadata": {
        "id": "4grmAMbBn_yp"
      },
      "execution_count": 37,
      "outputs": []
    },
    {
      "cell_type": "code",
      "source": [
        "sorted(list)"
      ],
      "metadata": {
        "colab": {
          "base_uri": "https://localhost:8080/"
        },
        "id": "ce58pAJDoEYm",
        "outputId": "e0b6cf14-9d70-4bad-dc94-92cecf2592bd"
      },
      "execution_count": 38,
      "outputs": [
        {
          "output_type": "execute_result",
          "data": {
            "text/plain": [
              "[1, 1, 2, 3, 4, 4, 4, 5, 5, 6, 7, 7, 8, 8, 8, 9]"
            ]
          },
          "metadata": {},
          "execution_count": 38
        }
      ]
    },
    {
      "cell_type": "markdown",
      "source": [
        "#LAMBDA"
      ],
      "metadata": {
        "id": "8DbrZzxboZdH"
      }
    },
    {
      "cell_type": "code",
      "source": [
        "x = 10\n",
        "y = 20\n",
        "add = lambda x , y : x + y"
      ],
      "metadata": {
        "id": "BSd7SpMNoHcK"
      },
      "execution_count": 40,
      "outputs": []
    },
    {
      "cell_type": "code",
      "source": [
        "result = add(x , y)\n",
        "\n",
        "print(result)"
      ],
      "metadata": {
        "colab": {
          "base_uri": "https://localhost:8080/"
        },
        "id": "bXlMRvxvottp",
        "outputId": "60bd59eb-19eb-45e2-c724-080f00b20f29"
      },
      "execution_count": 44,
      "outputs": [
        {
          "output_type": "stream",
          "name": "stdout",
          "text": [
            "30\n"
          ]
        }
      ]
    },
    {
      "cell_type": "code",
      "source": [
        "def add (x, y):\n",
        "  return x + y"
      ],
      "metadata": {
        "id": "TLxK7oeyoyhH"
      },
      "execution_count": 45,
      "outputs": []
    },
    {
      "cell_type": "code",
      "source": [
        "result = add(7,8)"
      ],
      "metadata": {
        "id": "XUqrngjZpQZd"
      },
      "execution_count": 46,
      "outputs": []
    },
    {
      "cell_type": "code",
      "source": [
        "result"
      ],
      "metadata": {
        "colab": {
          "base_uri": "https://localhost:8080/"
        },
        "id": "R7Ou6pUOpWZr",
        "outputId": "a437dba8-223a-4716-e54b-9fa8bb29cd42"
      },
      "execution_count": 47,
      "outputs": [
        {
          "output_type": "execute_result",
          "data": {
            "text/plain": [
              "15"
            ]
          },
          "metadata": {},
          "execution_count": 47
        }
      ]
    },
    {
      "cell_type": "code",
      "source": [
        "#square of number"
      ],
      "metadata": {
        "id": "jUEUobztpXRJ"
      },
      "execution_count": 48,
      "outputs": []
    },
    {
      "cell_type": "code",
      "source": [
        "square = lambda x : x **2"
      ],
      "metadata": {
        "id": "LSErab2vpsiB"
      },
      "execution_count": 49,
      "outputs": []
    },
    {
      "cell_type": "code",
      "source": [
        "square(6)"
      ],
      "metadata": {
        "colab": {
          "base_uri": "https://localhost:8080/"
        },
        "id": "76Nv00Oyp0gT",
        "outputId": "d7f5eff3-06a4-4175-be14-46cfa4bf38dc"
      },
      "execution_count": 50,
      "outputs": [
        {
          "output_type": "execute_result",
          "data": {
            "text/plain": [
              "36"
            ]
          },
          "metadata": {},
          "execution_count": 50
        }
      ]
    },
    {
      "cell_type": "code",
      "source": [
        "is_even = lambda x : \"Even\" if x  % 2 == 0 else \"Odd\""
      ],
      "metadata": {
        "id": "hQyPrm-Op3qp"
      },
      "execution_count": 52,
      "outputs": []
    },
    {
      "cell_type": "code",
      "source": [
        "is_even(5)"
      ],
      "metadata": {
        "colab": {
          "base_uri": "https://localhost:8080/",
          "height": 35
        },
        "id": "_euzalQ4qFOO",
        "outputId": "919518f2-d1bd-4e75-89df-0ab45958b5b5"
      },
      "execution_count": 53,
      "outputs": [
        {
          "output_type": "execute_result",
          "data": {
            "text/plain": [
              "'Odd'"
            ],
            "application/vnd.google.colaboratory.intrinsic+json": {
              "type": "string"
            }
          },
          "metadata": {},
          "execution_count": 53
        }
      ]
    },
    {
      "cell_type": "markdown",
      "source": [
        "#map & filter"
      ],
      "metadata": {
        "id": "rGL3mLKQqOoR"
      }
    },
    {
      "cell_type": "code",
      "source": [
        "numbers = [1,2,3,4,5,6,7,8,9,10,14,15,48]"
      ],
      "metadata": {
        "id": "2ueFgw8wqKR4"
      },
      "execution_count": 60,
      "outputs": []
    },
    {
      "cell_type": "code",
      "source": [
        "\n",
        "even_numbers = list(filter(lambda x: x % 2 == 0, numbers))\n",
        "\n",
        "print(even_numbers)\n"
      ],
      "metadata": {
        "colab": {
          "base_uri": "https://localhost:8080/"
        },
        "id": "H7lylHLLqadr",
        "outputId": "6294755c-5bf3-4786-c244-26d6f61af05b"
      },
      "execution_count": 61,
      "outputs": [
        {
          "output_type": "stream",
          "name": "stdout",
          "text": [
            "[2, 4, 6, 8, 10, 14, 48]\n"
          ]
        }
      ]
    },
    {
      "cell_type": "code",
      "source": [
        "#map"
      ],
      "metadata": {
        "id": "Y7EePrw1qnX2"
      },
      "execution_count": 62,
      "outputs": []
    },
    {
      "cell_type": "code",
      "source": [
        "numbers"
      ],
      "metadata": {
        "colab": {
          "base_uri": "https://localhost:8080/"
        },
        "id": "yJoEjkwkrW_x",
        "outputId": "500f909f-6cc6-47ac-88c5-dcd46c4f0670"
      },
      "execution_count": 63,
      "outputs": [
        {
          "output_type": "execute_result",
          "data": {
            "text/plain": [
              "[1, 2, 3, 4, 5, 6, 7, 8, 9, 10, 14, 15, 48]"
            ]
          },
          "metadata": {},
          "execution_count": 63
        }
      ]
    },
    {
      "cell_type": "code",
      "source": [
        "square_number = lambda x : x ** 2"
      ],
      "metadata": {
        "id": "KP9Rd0dErYrK"
      },
      "execution_count": 64,
      "outputs": []
    },
    {
      "cell_type": "code",
      "source": [
        "square_number(5)"
      ],
      "metadata": {
        "colab": {
          "base_uri": "https://localhost:8080/"
        },
        "id": "Y002T4uJrhIA",
        "outputId": "6936ba2c-3b4d-4d56-fa5d-ba4d24e8885e"
      },
      "execution_count": 65,
      "outputs": [
        {
          "output_type": "execute_result",
          "data": {
            "text/plain": [
              "25"
            ]
          },
          "metadata": {},
          "execution_count": 65
        }
      ]
    },
    {
      "cell_type": "code",
      "source": [
        "sq_nu = list(map(lambda x : x ** 2, numbers))"
      ],
      "metadata": {
        "id": "HtI2osOcrjBI"
      },
      "execution_count": 66,
      "outputs": []
    },
    {
      "cell_type": "code",
      "source": [
        "sq_nu"
      ],
      "metadata": {
        "colab": {
          "base_uri": "https://localhost:8080/"
        },
        "id": "upTPHjX2rud4",
        "outputId": "6949d161-5d7d-4df4-b87b-f752912eac88"
      },
      "execution_count": 67,
      "outputs": [
        {
          "output_type": "execute_result",
          "data": {
            "text/plain": [
              "[1, 4, 9, 16, 25, 36, 49, 64, 81, 100, 196, 225, 2304]"
            ]
          },
          "metadata": {},
          "execution_count": 67
        }
      ]
    },
    {
      "cell_type": "markdown",
      "source": [
        "#return, pass, continue & break"
      ],
      "metadata": {
        "id": "2TLwXqb7r8mJ"
      }
    },
    {
      "cell_type": "code",
      "source": [
        "def add_number (a , b):\n",
        "  return a + b"
      ],
      "metadata": {
        "id": "ZmREiZ7drvqg"
      },
      "execution_count": 68,
      "outputs": []
    },
    {
      "cell_type": "code",
      "source": [
        "add_number(5,3)"
      ],
      "metadata": {
        "colab": {
          "base_uri": "https://localhost:8080/"
        },
        "id": "20KlKFX4sKC0",
        "outputId": "db766b36-57d6-401f-ace1-d2c248692a0e"
      },
      "execution_count": 69,
      "outputs": [
        {
          "output_type": "execute_result",
          "data": {
            "text/plain": [
              "8"
            ]
          },
          "metadata": {},
          "execution_count": 69
        }
      ]
    },
    {
      "cell_type": "code",
      "source": [
        "def future_function():\n",
        "  pass"
      ],
      "metadata": {
        "id": "CmGviiGQsMIz"
      },
      "execution_count": 71,
      "outputs": []
    },
    {
      "cell_type": "code",
      "source": [
        "for i in range(6):\n",
        "  if i == 2:\n",
        "    continue\n",
        "  print(i)"
      ],
      "metadata": {
        "colab": {
          "base_uri": "https://localhost:8080/"
        },
        "id": "asPXuxlfsRZz",
        "outputId": "6c43a7a3-b5d8-4177-ce93-0021eed88d9e"
      },
      "execution_count": 72,
      "outputs": [
        {
          "output_type": "stream",
          "name": "stdout",
          "text": [
            "0\n",
            "1\n",
            "3\n",
            "4\n",
            "5\n"
          ]
        }
      ]
    },
    {
      "cell_type": "code",
      "source": [
        "for i in range(5):\n",
        "  if i == 3:\n",
        "    break\n",
        "  print(i)"
      ],
      "metadata": {
        "colab": {
          "base_uri": "https://localhost:8080/"
        },
        "id": "rVEQl4FMsjtq",
        "outputId": "2a7a0d92-fbc8-480c-f069-47b4dbe30441"
      },
      "execution_count": 73,
      "outputs": [
        {
          "output_type": "stream",
          "name": "stdout",
          "text": [
            "0\n",
            "1\n",
            "2\n"
          ]
        }
      ]
    },
    {
      "cell_type": "code",
      "source": [],
      "metadata": {
        "id": "Cv6G9h94swTW"
      },
      "execution_count": null,
      "outputs": []
    }
  ]
}